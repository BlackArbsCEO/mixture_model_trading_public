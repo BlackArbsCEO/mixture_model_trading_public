{
 "cells": [
  {
   "cell_type": "markdown",
   "metadata": {
    "slideshow": {
     "slide_type": "slide"
    },
    "toc": true
   },
   "source": [
    "<h1>Table of Contents<span class=\"tocSkip\"></span></h1>\n",
    "<div class=\"toc\"><ul class=\"toc-item\"><li><span><a href=\"#Study-Design\" data-toc-modified-id=\"Study-Design-1\"><span class=\"toc-item-num\">1&nbsp;&nbsp;</span>Study Design</a></span><ul class=\"toc-item\"><li><span><a href=\"#Data\" data-toc-modified-id=\"Data-1.1\"><span class=\"toc-item-num\">1.1&nbsp;&nbsp;</span>Data</a></span></li><li><span><a href=\"#Collect-Model-Functions\" data-toc-modified-id=\"Collect-Model-Functions-1.2\"><span class=\"toc-item-num\">1.2&nbsp;&nbsp;</span>Collect Model Functions</a></span><ul class=\"toc-item\"><li><span><a href=\"#Gaussian-Mixture\" data-toc-modified-id=\"Gaussian-Mixture-1.2.1\"><span class=\"toc-item-num\">1.2.1&nbsp;&nbsp;</span>Gaussian Mixture</a></span></li><li><span><a href=\"#Garch\" data-toc-modified-id=\"Garch-1.2.2\"><span class=\"toc-item-num\">1.2.2&nbsp;&nbsp;</span>Garch</a></span></li><li><span><a href=\"#Gaussian-KDE\" data-toc-modified-id=\"Gaussian-KDE-1.2.3\"><span class=\"toc-item-num\">1.2.3&nbsp;&nbsp;</span>Gaussian KDE</a></span></li><li><span><a href=\"#Historical\" data-toc-modified-id=\"Historical-1.2.4\"><span class=\"toc-item-num\">1.2.4&nbsp;&nbsp;</span>Historical</a></span></li></ul></li></ul></li><li><span><a href=\"#Run-VAR-model\" data-toc-modified-id=\"Run-VAR-model-2\"><span class=\"toc-item-num\">2&nbsp;&nbsp;</span>Run VAR model</a></span></li><li><span><a href=\"#Evaluate-MAPE-results\" data-toc-modified-id=\"Evaluate-MAPE-results-3\"><span class=\"toc-item-num\">3&nbsp;&nbsp;</span>Evaluate MAPE results</a></span><ul class=\"toc-item\"><li><span><a href=\"#Test-model-for-other-symbols\" data-toc-modified-id=\"Test-model-for-other-symbols-3.1\"><span class=\"toc-item-num\">3.1&nbsp;&nbsp;</span>Test model for other symbols</a></span></li></ul></li><li><span><a href=\"#Conclusions\" data-toc-modified-id=\"Conclusions-4\"><span class=\"toc-item-num\">4&nbsp;&nbsp;</span>Conclusions</a></span></li><li><span><a href=\"#Resources-and-Citations\" data-toc-modified-id=\"Resources-and-Citations-5\"><span class=\"toc-item-num\">5&nbsp;&nbsp;</span>Resources and Citations</a></span></li></ul></div>"
   ]
  },
  {
   "cell_type": "code",
   "execution_count": 1,
   "metadata": {
    "ExecuteTime": {
     "end_time": "2020-05-07T20:57:42.257697Z",
     "start_time": "2020-05-07T20:57:40.594352Z"
    },
    "slideshow": {
     "slide_type": "skip"
    }
   },
   "outputs": [
    {
     "name": "stdout",
     "output_type": "stream",
     "text": [
      "2020-05-07T14:57:40-06:00\n",
      "\n",
      "CPython 3.7.6\n",
      "IPython 7.14.0\n",
      "\n",
      "compiler   : GCC 7.3.0\n",
      "system     : Linux\n",
      "release    : 5.0.0-32-generic\n",
      "machine    : x86_64\n",
      "processor  : x86_64\n",
      "CPU cores  : 12\n",
      "interpreter: 64bit\n"
     ]
    },
    {
     "name": "stderr",
     "output_type": "stream",
     "text": [
      "/home/kingmaster/anaconda3/envs/py37/lib/python3.7/site-packages/pandas_datareader/compat/__init__.py:7: FutureWarning: pandas.util.testing is deprecated. Use the functions in the public API at pandas.testing instead.\n",
      "  from pandas.util.testing import assert_frame_equal\n"
     ]
    },
    {
     "name": "stdout",
     "output_type": "stream",
     "text": [
      "\n",
      "pandas 1.0.3\n",
      "pandas_datareader 0.8.1\n",
      "numpy 1.18.4\n",
      "sklearn 0.22.2.post1\n",
      "statsmodels 0.11.1\n",
      "scipy 1.4.1\n",
      "matplotlib 3.1.3\n",
      "seaborn 0.10.1\n",
      "plotnine 0.6.0\n"
     ]
    }
   ],
   "source": [
    "%load_ext watermark\n",
    "%watermark\n",
    "\n",
    "%load_ext autoreload\n",
    "%autoreload 2\n",
    "\n",
    "from IPython.display import display\n",
    "\n",
    "# import standard libs\n",
    "from pathlib import Path\n",
    "import sys\n",
    "import time\n",
    "import os\n",
    "from copy import copy\n",
    "\n",
    "# get project dir\n",
    "def local_get_relative_project_dir(project_repo_name=None, partial=True):\n",
    "    \"\"\"helper fn to get local project directory\"\"\"\n",
    "    current_working_directory = Path.cwd()\n",
    "    cwd_parts = current_working_directory.parts\n",
    "    if partial:\n",
    "        while project_repo_name not in cwd_parts[-1]:\n",
    "            current_working_directory = current_working_directory.parent\n",
    "            cwd_parts = current_working_directory.parts\n",
    "    else:\n",
    "        while cwd_parts[-1] != project_repo_name:\n",
    "            current_working_directory = current_working_directory.parent\n",
    "            cwd_parts = current_working_directory.parts\n",
    "    return current_working_directory\n",
    "\n",
    "\n",
    "PROJECT_REPO_NAME = \"mixture_model_trading_public\"\n",
    "project_dir = local_get_relative_project_dir(PROJECT_REPO_NAME)\n",
    "data_dir = project_dir / \"data\"\n",
    "script_dir = project_dir / \"scripts\"\n",
    "sys.path.append(script_dir.as_posix())\n",
    "\n",
    "# import python scientific stack\n",
    "import pandas as pd\n",
    "pd.options.display.float_format = '{:,.4f}'.format\n",
    "import pandas_datareader as pdr\n",
    "import numpy as np\n",
    "import sklearn.mixture as mix\n",
    "from sklearn.model_selection import TimeSeriesSplit\n",
    "import statsmodels.tsa.api as smt\n",
    "import statsmodels.api as sm\n",
    "import scipy.stats as stats\n",
    "from arch import arch_model\n",
    "from numba import jit\n",
    "import math\n",
    "\n",
    "# import visual tools\n",
    "from mpl_toolkits import mplot3d\n",
    "import matplotlib as mpl\n",
    "import matplotlib.pyplot as plt\n",
    "import matplotlib.gridspec as gridspec\n",
    "%matplotlib inline\n",
    "import plotnine as pn\n",
    "import mizani.breaks as mzb\n",
    "import mizani.formatters as mzf\n",
    "import seaborn as sns\n",
    "savefig_kwds=dict(dpi=300, bbox_inches='tight')\n",
    "\n",
    "# import util libs\n",
    "from tqdm import tqdm\n",
    "import warnings\n",
    "warnings.filterwarnings(\"ignore\")\n",
    "from utils import cprint\n",
    "\n",
    "# set globals\n",
    "blue, gold, green, red, purple, brown = sns.color_palette('colorblind', 6)\n",
    "RANDOM_STATE = 777\n",
    "\n",
    "print()\n",
    "%watermark -p pandas,pandas_datareader,numpy,sklearn,statsmodels,scipy,matplotlib,seaborn,plotnine"
   ]
  },
  {
   "cell_type": "code",
   "execution_count": 2,
   "metadata": {
    "ExecuteTime": {
     "end_time": "2020-05-07T20:57:42.292938Z",
     "start_time": "2020-05-07T20:57:42.259260Z"
    }
   },
   "outputs": [],
   "source": [
    "sns_params = {\n",
    "    \"axes.grid\": True,\n",
    "    \"ytick.left\": True,\n",
    "    \"xtick.bottom\": True,\n",
    "    \"xtick.major.size\": 2,\n",
    "    \"ytick.major.size\": 2,\n",
    "    \"font.size\": 11,\n",
    "    \"font.weight\": \"medium\",\n",
    "    \"figure.figsize\": (10, 7),\n",
    "    \"font.family\": \"DejaVu Sans Mono\",  # \"Ubuntu Mono\",\n",
    "}\n",
    "\n",
    "sns.set(context=\"poster\", style=\"ticks\", rc=sns_params)\n",
    "savefig_kwds = dict(dpi=90, bbox_inches=\"tight\", frameon=True, format=\"png\")\n",
    "flatui = [\"#3498db\", \"#9b59b6\", \"#95a5a6\", \"#e74c3c\", \"#34495e\", \"#2ecc71\", \"#f4cae4\"]\n",
    "sns.set_palette(sns.color_palette(flatui, 7))"
   ]
  },
  {
   "cell_type": "markdown",
   "metadata": {
    "slideshow": {
     "slide_type": "slide"
    }
   },
   "source": [
    "## Study Design\n",
    "\n",
    "1. choose symbol to test (stats.guassian_kde and garch are only univariate)\n",
    "2. collect model functions\n",
    "3. decide on frequency and sample splits\n",
    "4. iterate over train, test data \n",
    "    - collect forecasts\n",
    "    - compute results for forecast period\n",
    "    - collect results for forecast period\n",
    "5. aggregate results\n",
    "6. evaluate results and plots"
   ]
  },
  {
   "cell_type": "markdown",
   "metadata": {
    "slideshow": {
     "slide_type": "subslide"
    }
   },
   "source": [
    "### Data"
   ]
  },
  {
   "cell_type": "code",
   "execution_count": 3,
   "metadata": {
    "ExecuteTime": {
     "end_time": "2020-05-07T20:57:44.079589Z",
     "start_time": "2020-05-07T20:57:42.294867Z"
    },
    "slideshow": {
     "slide_type": "subslide"
    }
   },
   "outputs": [
    {
     "name": "stdout",
     "output_type": "stream",
     "text": [
      "-------------------------------------------------------------------------------\n",
      "dataframe information\n",
      "-------------------------------------------------------------------------------\n",
      "               SPY     QQQ     TLT    GLD     EFA     EEM\n",
      "date                                                     \n",
      "2017-12-22 -0.0003 -0.0011  0.0014 0.0052  0.0026  0.0084\n",
      "2017-12-26 -0.0012 -0.0054  0.0030 0.0068 -0.0003 -0.0009\n",
      "2017-12-27  0.0005  0.0001  0.0129 0.0038  0.0019  0.0026\n",
      "2017-12-28  0.0021  0.0012 -0.0009 0.0051  0.0006  0.0068\n",
      "2017-12-29 -0.0038 -0.0062  0.0016 0.0065  0.0007  0.0047\n",
      "--------------------------------------------------\n",
      "<class 'pandas.core.frame.DataFrame'>\n",
      "DatetimeIndex: 3301 entries, 2004-11-19 to 2017-12-29\n",
      "Data columns (total 6 columns):\n",
      " #   Column  Non-Null Count  Dtype  \n",
      "---  ------  --------------  -----  \n",
      " 0   SPY     3301 non-null   float64\n",
      " 1   QQQ     3301 non-null   float64\n",
      " 2   TLT     3301 non-null   float64\n",
      " 3   GLD     3301 non-null   float64\n",
      " 4   EFA     3301 non-null   float64\n",
      " 5   EEM     3301 non-null   float64\n",
      "dtypes: float64(6)\n",
      "memory usage: 180.5 KB\n",
      "None\n",
      "-------------------------------------------------------------------------------\n",
      "\n"
     ]
    }
   ],
   "source": [
    "infp = Path(data_dir/'tiingo_etf_returns_ending_2017-12-31.parq')\n",
    "R = pd.read_parquet(infp)\n",
    "cprint(R)"
   ]
  },
  {
   "cell_type": "code",
   "execution_count": 4,
   "metadata": {
    "ExecuteTime": {
     "end_time": "2020-05-07T20:57:44.114344Z",
     "start_time": "2020-05-07T20:57:44.080842Z"
    },
    "slideshow": {
     "slide_type": "subslide"
    }
   },
   "outputs": [
    {
     "name": "stdout",
     "output_type": "stream",
     "text": [
      "-------------------------------------------------------------------------------\n",
      "dataframe information\n",
      "-------------------------------------------------------------------------------\n",
      "               SPY\n",
      "date              \n",
      "2017-12-22 -0.0003\n",
      "2017-12-26 -0.0012\n",
      "2017-12-27  0.0005\n",
      "2017-12-28  0.0021\n",
      "2017-12-29 -0.0038\n",
      "--------------------------------------------------\n",
      "<class 'pandas.core.frame.DataFrame'>\n",
      "DatetimeIndex: 3272 entries, 2005-01-03 to 2017-12-29\n",
      "Data columns (total 1 columns):\n",
      " #   Column  Non-Null Count  Dtype  \n",
      "---  ------  --------------  -----  \n",
      " 0   SPY     3272 non-null   float64\n",
      "dtypes: float64(1)\n",
      "memory usage: 51.1 KB\n",
      "None\n",
      "-------------------------------------------------------------------------------\n",
      "\n"
     ]
    }
   ],
   "source": [
    "test_symbol = 'SPY'\n",
    "data = R[test_symbol].to_frame().loc['2005':].copy()\n",
    "cprint(data)"
   ]
  },
  {
   "cell_type": "markdown",
   "metadata": {
    "slideshow": {
     "slide_type": "slide"
    }
   },
   "source": [
    "### Collect Model Functions"
   ]
  },
  {
   "cell_type": "code",
   "execution_count": 5,
   "metadata": {
    "ExecuteTime": {
     "end_time": "2020-05-07T20:57:44.140808Z",
     "start_time": "2020-05-07T20:57:44.115776Z"
    },
    "slideshow": {
     "slide_type": "subslide"
    }
   },
   "outputs": [],
   "source": [
    "def calc_quantile_var(data, alpha=0.05):\n",
    "    \"\"\"\n",
    "    compute var by quantile\n",
    "    \"\"\"\n",
    "    return data.quantile(alpha)"
   ]
  },
  {
   "cell_type": "markdown",
   "metadata": {
    "slideshow": {
     "slide_type": "slide"
    }
   },
   "source": [
    "#### Gaussian Mixture"
   ]
  },
  {
   "cell_type": "code",
   "execution_count": 6,
   "metadata": {
    "ExecuteTime": {
     "end_time": "2020-05-07T20:57:44.168807Z",
     "start_time": "2020-05-07T20:57:44.143341Z"
    },
    "slideshow": {
     "slide_type": "subslide"
    }
   },
   "outputs": [],
   "source": [
    "# gaussian mixture model, 2 components\n",
    "\n",
    "def gmm(data, n_components, max_iter=150, random_state=0, **kwds):\n",
    "    \"\"\"\n",
    "    gaussian mixture model by sklearn\n",
    "    \"\"\"\n",
    "    model = mix.GaussianMixture(n_components, max_iter=max_iter,\n",
    "                                random_state=random_state, **kwds)\n",
    "    model.fit(data)\n",
    "    return model"
   ]
  },
  {
   "cell_type": "code",
   "execution_count": 7,
   "metadata": {
    "ExecuteTime": {
     "end_time": "2020-05-07T20:57:44.193720Z",
     "start_time": "2020-05-07T20:57:44.169987Z"
    },
    "slideshow": {
     "slide_type": "subslide"
    }
   },
   "outputs": [],
   "source": [
    "def gmm_sample(data, n_components=2, max_iter=150, random_state=0,\n",
    "                     n_samples=1000, risky=True, **kwds):\n",
    "    \"\"\"\n",
    "    sample from the risky component\n",
    "    \"\"\"\n",
    "    model = gmm(data, n_components=n_components,\n",
    "                max_iter=max_iter, random_state=random_state, **kwds)\n",
    "    X_s, y_s = model.sample(n_samples)\n",
    "    df = pd.DataFrame(X_s, columns=data.columns).assign(component=y_s)\n",
    "    if not risky: \n",
    "        ser = pd.Series(X_s.ravel())\n",
    "        ser.name = 'gmm'\n",
    "        return ser\n",
    "    \n",
    "    risky = df.groupby('component').mean().mean(1).argmin()\n",
    "    ser = df.query('component==@risky').set_index('component').squeeze()\n",
    "    ser.name = 'gmm_risky'\n",
    "    return ser\n",
    "    "
   ]
  },
  {
   "cell_type": "code",
   "execution_count": 8,
   "metadata": {
    "ExecuteTime": {
     "end_time": "2020-05-07T20:57:44.265672Z",
     "start_time": "2020-05-07T20:57:44.195510Z"
    },
    "slideshow": {
     "slide_type": "subslide"
    }
   },
   "outputs": [
    {
     "data": {
      "text/plain": [
       "-0.0162729299120134"
      ]
     },
     "execution_count": 8,
     "metadata": {},
     "output_type": "execute_result"
    }
   ],
   "source": [
    "def calc_gmm_var(data, n_components=2, max_iter=150, random_state=0, \n",
    "                 n_samples=1000, risky=True, **kwds):\n",
    "    \"\"\"\n",
    "    compute quantile var for gmm risky component\n",
    "    \"\"\"\n",
    "    gmm_samples = gmm_sample(data, 2, risky=risky)\n",
    "    return calc_quantile_var(gmm_samples)\n",
    "\n",
    "gmm_var = calc_gmm_var(data, risky=False)\n",
    "gmm_var"
   ]
  },
  {
   "cell_type": "markdown",
   "metadata": {
    "slideshow": {
     "slide_type": "slide"
    }
   },
   "source": [
    "#### Garch"
   ]
  },
  {
   "cell_type": "code",
   "execution_count": 9,
   "metadata": {
    "ExecuteTime": {
     "end_time": "2020-05-07T20:57:44.679731Z",
     "start_time": "2020-05-07T20:57:44.267750Z"
    },
    "scrolled": true,
    "slideshow": {
     "slide_type": "subslide"
    }
   },
   "outputs": [
    {
     "data": {
      "text/plain": [
       "-0.08555662837024733"
      ]
     },
     "execution_count": 9,
     "metadata": {},
     "output_type": "execute_result"
    }
   ],
   "source": [
    "# garch model 1,0,1\n",
    "def garch(data, p=1, o=0, q=1, update_freq=5, **kwds):\n",
    "    model = arch_model(data, 'Garch', p=p, o=o, q=q, **kwds)\n",
    "    res = model.fit(update_freq=update_freq, disp='off')\n",
    "    return res\n",
    "\n",
    "def garch_forecast_sim(data, p=1, o=0, q=1, update_freq=5,\n",
    "                       horizon=30, n_simulations=1000, **kwds):\n",
    "    np.random.seed(0)\n",
    "    garch_model = garch(data,p=p,o=o,q=q,update_freq=update_freq) \n",
    "    forecasts = garch_model.forecast(\n",
    "        horizon=horizon, method='simulation',simulations=n_simulations)\n",
    "    sim_ser = pd.Series(forecasts.simulations.values[-1,:,-1])\n",
    "    sim_ser.name = 'garch'    \n",
    "    return sim_ser\n",
    "\n",
    "def calc_garch_var(data, p=1, o=0, q=1, update_freq=5, horizon=30, n_simulations=1000, alpha=0.05, **kwds):\n",
    "    sim_ser = garch_forecast_sim(data, p=p, o=o, q=q, update_freq=update_freq,\n",
    "                                 horizon=horizon, n_simulations=n_simulations//horizon, **kwds)\n",
    "    var = calc_quantile_var(sim_ser, alpha=alpha)\n",
    "    return var\n",
    "\n",
    "calc_garch_var(data, n_simulations=10000)"
   ]
  },
  {
   "cell_type": "code",
   "execution_count": 10,
   "metadata": {
    "ExecuteTime": {
     "end_time": "2020-05-07T20:57:45.055434Z",
     "start_time": "2020-05-07T20:57:44.680870Z"
    },
    "slideshow": {
     "slide_type": "subslide"
    }
   },
   "outputs": [
    {
     "data": {
      "text/plain": [
       "-0.08059732027139002"
      ]
     },
     "execution_count": 10,
     "metadata": {},
     "output_type": "execute_result"
    }
   ],
   "source": [
    "calc_garch_var(data, n_simulations=10000, dist='studentT')"
   ]
  },
  {
   "cell_type": "markdown",
   "metadata": {
    "ExecuteTime": {
     "end_time": "2019-01-03T03:46:07.623539Z",
     "start_time": "2019-01-03T03:46:07.157792Z"
    },
    "slideshow": {
     "slide_type": "slide"
    }
   },
   "source": [
    "#### Gaussian KDE"
   ]
  },
  {
   "cell_type": "code",
   "execution_count": 11,
   "metadata": {
    "ExecuteTime": {
     "end_time": "2020-05-07T20:57:45.096598Z",
     "start_time": "2020-05-07T20:57:45.057004Z"
    },
    "slideshow": {
     "slide_type": "subslide"
    }
   },
   "outputs": [
    {
     "data": {
      "text/plain": [
       "-0.021823126146631528"
      ]
     },
     "execution_count": 11,
     "metadata": {},
     "output_type": "execute_result"
    }
   ],
   "source": [
    "# guassian kde\n",
    "def gkde(data, **kwds):\n",
    "    if isinstance(data, pd.DataFrame): data=data.squeeze()\n",
    "    return stats.gaussian_kde(data, **kwds)\n",
    "\n",
    "def sample_gaussian_kde(data, n_samples=1000, **kwds):\n",
    "    np.random.seed(0)\n",
    "    model = gkde(data, **kwds)\n",
    "    samples = model.resample(n_samples).ravel()\n",
    "    ser = pd.Series(samples)\n",
    "    ser.name = 'gaussian_kde'\n",
    "    return ser\n",
    "\n",
    "def calc_gaussian_kde_var(data, n_samples=1000, alpha=0.05, **kwds):\n",
    "    samples = sample_gaussian_kde(data, n_samples=n_samples, **kwds)\n",
    "    return calc_quantile_var(samples, alpha=alpha)\n",
    "\n",
    "calc_gaussian_kde_var(data)"
   ]
  },
  {
   "cell_type": "markdown",
   "metadata": {
    "slideshow": {
     "slide_type": "slide"
    }
   },
   "source": [
    "#### Historical "
   ]
  },
  {
   "cell_type": "code",
   "execution_count": 12,
   "metadata": {
    "ExecuteTime": {
     "end_time": "2020-05-07T20:57:45.119168Z",
     "start_time": "2020-05-07T20:57:45.097742Z"
    },
    "slideshow": {
     "slide_type": "subslide"
    }
   },
   "outputs": [
    {
     "data": {
      "text/plain": [
       "-0.017334040349494213"
      ]
     },
     "execution_count": 12,
     "metadata": {},
     "output_type": "execute_result"
    }
   ],
   "source": [
    "# historical var\n",
    "\n",
    "def calc_historical_var(data, alpha=0.05): \n",
    "    if isinstance(data, pd.DataFrame): data=data.squeeze()\n",
    "    return calc_quantile_var(data, alpha=alpha)\n",
    "\n",
    "calc_historical_var(data)"
   ]
  },
  {
   "cell_type": "code",
   "execution_count": 13,
   "metadata": {
    "ExecuteTime": {
     "end_time": "2020-05-07T20:57:45.398727Z",
     "start_time": "2020-05-07T20:57:45.120332Z"
    },
    "slideshow": {
     "slide_type": "subslide"
    }
   },
   "outputs": [
    {
     "data": {
      "image/png": "[encoded data removed]",
      "text/plain": [
       "<Figure size 720x504 with 1 Axes>"
      ]
     },
     "metadata": {},
     "output_type": "display_data"
    }
   ],
   "source": [
    "def plot_hist_samples(samples, ax=None):\n",
    "    if not ax: ax = plt.gca()\n",
    "    \n",
    "    sns.distplot(samples, ax=ax, label=samples.name, \n",
    "                 hist=False, kde_kws={'shade':True})\n",
    "    ax.legend()\n",
    "    \n",
    "plot_hist_samples(sample_gaussian_kde(data))    "
   ]
  },
  {
   "cell_type": "code",
   "execution_count": 14,
   "metadata": {
    "ExecuteTime": {
     "end_time": "2020-05-07T20:57:47.484448Z",
     "start_time": "2020-05-07T20:57:45.400698Z"
    },
    "slideshow": {
     "slide_type": "subslide"
    }
   },
   "outputs": [
    {
     "data": {
      "image/png": "[encoded data removed]",
      "text/plain": [
       "<Figure size 720x504 with 1 Axes>"
      ]
     },
     "metadata": {},
     "output_type": "display_data"
    }
   ],
   "source": [
    "gmm_samples = gmm_sample(data, 2)\n",
    "garch_samples = garch_forecast_sim(data)\n",
    "g_kde_samples = sample_gaussian_kde(data)\n",
    "hist_data = data.squeeze()\n",
    "\n",
    "sample_series = [gmm_samples, garch_samples, g_kde_samples, hist_data]\n",
    "f, ax = plt.subplots(figsize=(10,7))\n",
    "for s in sample_series:\n",
    "    plot_hist_samples(s, ax=ax)"
   ]
  },
  {
   "cell_type": "markdown",
   "metadata": {
    "slideshow": {
     "slide_type": "slide"
    }
   },
   "source": [
    "## Run VAR model"
   ]
  },
  {
   "cell_type": "code",
   "execution_count": 15,
   "metadata": {
    "ExecuteTime": {
     "end_time": "2020-05-07T20:57:47.519580Z",
     "start_time": "2020-05-07T20:57:47.485706Z"
    },
    "slideshow": {
     "slide_type": "subslide"
    }
   },
   "outputs": [
    {
     "data": {
      "text/plain": [
       "DatetimeIndex(['2005-01-31', '2005-02-28', '2005-03-31', '2005-04-30',\n",
       "               '2005-05-31', '2005-06-30', '2005-07-31', '2005-08-31',\n",
       "               '2005-09-30', '2005-10-31',\n",
       "               ...\n",
       "               '2017-03-31', '2017-04-30', '2017-05-31', '2017-06-30',\n",
       "               '2017-07-31', '2017-08-31', '2017-09-30', '2017-10-31',\n",
       "               '2017-11-30', '2017-12-31'],\n",
       "              dtype='datetime64[ns]', name='date', length=156, freq='M')"
      ]
     },
     "execution_count": 15,
     "metadata": {},
     "output_type": "execute_result"
    }
   ],
   "source": [
    "month_index = data.resample('M').mean().index\n",
    "month_index"
   ]
  },
  {
   "cell_type": "code",
   "execution_count": 16,
   "metadata": {
    "ExecuteTime": {
     "end_time": "2020-05-07T20:58:13.780749Z",
     "start_time": "2020-05-07T20:57:47.520700Z"
    },
    "scrolled": true,
    "slideshow": {
     "slide_type": "subslide"
    }
   },
   "outputs": [
    {
     "name": "stdout",
     "output_type": "stream",
     "text": [
      "index 156 is out of bounds for axis 0 with size 156\n"
     ]
    }
   ],
   "source": [
    "import warnings\n",
    "warnings.filterwarnings('ignore')\n",
    "warnings.simplefilter('ignore')\n",
    "\n",
    "np.random.seed(0)\n",
    "\n",
    "lookback = 252\n",
    "\n",
    "# stash model predictions\n",
    "keys = ['gmm', 'gmm_risky', 'garch_normal', 'garch_t', 'garch_skewt', 'gkde', 'historical']\n",
    "predictions = dict.fromkeys(keys)\n",
    "\n",
    "for k in predictions.keys(): predictions[k] = []\n",
    "\n",
    "# stash actual minimum returns for next period\n",
    "min_month_returns = []\n",
    "\n",
    "### begin model code ###\n",
    "\n",
    "for i, month_end in enumerate(month_index):\n",
    "    try:\n",
    "        if not data.loc[:month_end].shape[0] > lookback: continue\n",
    "\n",
    "        train = data.loc[:month_end].iloc[-lookback:]\n",
    "        test = data.loc[month_end+pd.Timedelta(days=1):month_index[i+1]]\n",
    "\n",
    "        # calc vars\n",
    "        gmm_var = calc_gmm_var(train, risky=False)\n",
    "        gmm_risky_var = calc_gmm_var(train, risky=True)\n",
    "        garch_norm_var = calc_garch_var(train, n_simulations=10000, dist='Normal')\n",
    "        garch_t_var = calc_garch_var(train, n_simulations=10000, dist='StudentT')\n",
    "        garch_skewt_var = calc_garch_var(train, n_simulations=10000, dist='skewt')\n",
    "        gkde_var = calc_gaussian_kde_var(train)\n",
    "        hist_var = calc_historical_var(train)    \n",
    "\n",
    "        train_vars = [gmm_var, gmm_risky_var,\n",
    "                      garch_norm_var, garch_t_var, garch_skewt_var,\n",
    "                      gkde_var, hist_var]\n",
    "        for k, var in zip(predictions.keys(), train_vars): predictions[k].append(var)\n",
    "\n",
    "        min_month_returns.append(test.squeeze().min())\n",
    "    except Exception as error:\n",
    "        print(error)\n",
    "    "
   ]
  },
  {
   "cell_type": "markdown",
   "metadata": {
    "slideshow": {
     "slide_type": "slide"
    }
   },
   "source": [
    "## Evaluate MAPE results\n",
    "\n",
    "In this experiment we will use [Mean Absolute Percentage Error (MAPE)](https://en.wikipedia.org/wiki/Mean_absolute_percentage_error) to evaluate the VAR prediction results. This is a relatively easy to interpret measure of the prediction error."
   ]
  },
  {
   "cell_type": "code",
   "execution_count": 17,
   "metadata": {
    "ExecuteTime": {
     "end_time": "2020-05-07T20:58:13.822595Z",
     "start_time": "2020-05-07T20:58:13.782446Z"
    },
    "scrolled": true,
    "slideshow": {
     "slide_type": "subslide"
    }
   },
   "outputs": [
    {
     "data": {
      "text/plain": [
       "garch_skewt    -50.7695\n",
       "garch_normal   -52.3108\n",
       "garch_t        -53.2317\n",
       "historical     -59.4449\n",
       "gmm            -59.9009\n",
       "gkde           -62.2783\n",
       "gmm_risky      -91.0889\n",
       "Name: 0, dtype: float64"
      ]
     },
     "execution_count": 17,
     "metadata": {},
     "output_type": "execute_result"
    }
   ],
   "source": [
    "# https://stackoverflow.com/questions/42250958/how-to-optimize-mape-code-in-python/42251083#42251083\n",
    "\n",
    "def mape_vectorized_v2(actual, predict): \n",
    "    mask = actual != 0\n",
    "    return (np.fabs(actual - predict)/actual)[mask].mean() \n",
    "\n",
    "model_errors = dict.fromkeys(keys)\n",
    "for k in model_errors.keys(): model_errors[k] = []\n",
    "    \n",
    "actual = np.asarray(min_month_returns)\n",
    "for k, predict in predictions.items():\n",
    "    model_errors[k].append(mape_vectorized_v2(actual, predict))\n",
    "\n",
    "error_df = (pd.DataFrame.\n",
    "            from_dict(model_errors)\n",
    "            .T\n",
    "            .squeeze()\n",
    "            .sort_values(ascending=False)*100.)\n",
    "error_df"
   ]
  },
  {
   "cell_type": "markdown",
   "metadata": {
    "slideshow": {
     "slide_type": "slide"
    }
   },
   "source": [
    "### Test model for other symbols"
   ]
  },
  {
   "cell_type": "code",
   "execution_count": 18,
   "metadata": {
    "ExecuteTime": {
     "end_time": "2020-05-07T20:58:13.862399Z",
     "start_time": "2020-05-07T20:58:13.824123Z"
    },
    "slideshow": {
     "slide_type": "subslide"
    }
   },
   "outputs": [],
   "source": [
    "def run_model(return_dataframe, symbol, keys, lookback=252):\n",
    "    \n",
    "    # get data\n",
    "    data = return_dataframe[symbol].to_frame().loc['2005':].copy()    \n",
    "    \n",
    "    np.random.seed(0)\n",
    "\n",
    "    # stash model predictions\n",
    "    predictions = dict.fromkeys(keys)\n",
    "    for k in predictions.keys(): predictions[k] = []\n",
    "\n",
    "    # stash actual minimum returns for next period\n",
    "    min_month_returns = []\n",
    "\n",
    "    ### begin model code ###\n",
    "\n",
    "    for i, month_end in enumerate(month_index):\n",
    "        sys.stdout.write('.')\n",
    "        sys.stdout.flush()        \n",
    "        try:\n",
    "            if not data.loc[:month_end].shape[0] > lookback: continue\n",
    "\n",
    "            train = data.loc[:month_end].iloc[-lookback:]\n",
    "            test = data.loc[month_end+pd.Timedelta(days=1):month_index[i+1]]\n",
    "\n",
    "            # calc vars\n",
    "            gmm_var = calc_gmm_var(train, risky=False)\n",
    "            gmm_risky_var = calc_gmm_var(train, risky=True)\n",
    "            garch_norm_var = calc_garch_var(train, n_simulations=10000, dist='Normal')\n",
    "            garch_t_var = calc_garch_var(train, n_simulations=10000, dist='StudentT')\n",
    "            garch_skewt_var = calc_garch_var(train, n_simulations=10000, dist='skewt')\n",
    "            gkde_var = calc_gaussian_kde_var(train)\n",
    "            hist_var = calc_historical_var(train)    \n",
    "\n",
    "            train_vars = [gmm_var, gmm_risky_var,\n",
    "                          garch_norm_var, garch_t_var, garch_skewt_var,\n",
    "                          gkde_var, hist_var]\n",
    "            for k, var in zip(predictions.keys(), train_vars): predictions[k].append(var)\n",
    "\n",
    "            min_month_returns.append(test.squeeze().min())\n",
    "        except Exception as e:\n",
    "            print(e)\n",
    "        \n",
    "    return min_month_returns, predictions\n",
    "\n",
    "\n",
    "\n",
    "\n",
    "# end"
   ]
  },
  {
   "cell_type": "code",
   "execution_count": 19,
   "metadata": {
    "ExecuteTime": {
     "end_time": "2020-05-07T20:58:13.896564Z",
     "start_time": "2020-05-07T20:58:13.863964Z"
    },
    "scrolled": true,
    "slideshow": {
     "slide_type": "subslide"
    }
   },
   "outputs": [],
   "source": [
    "def calc_model_mape(actual, predictions, symbol, keys):\n",
    "    # https://stackoverflow.com/questions/42250958/how-to-optimize-mape-code-in-python/42251083#42251083\n",
    "\n",
    "    def mape_vectorized_v2(actual, predict): \n",
    "        mask = actual != 0\n",
    "        return (np.fabs(actual - predict)/actual)[mask].mean() \n",
    "\n",
    "    model_errors = dict.fromkeys(keys)\n",
    "    for k in model_errors.keys(): model_errors[k] = []\n",
    "\n",
    "    actual = np.asarray(min_month_returns)\n",
    "    for k, predict in predictions.items():\n",
    "        model_errors[k].append(mape_vectorized_v2(actual, predict))\n",
    "\n",
    "    error_df = (pd.DataFrame.\n",
    "                from_dict(model_errors)\n",
    "                .T\n",
    "                .squeeze()\n",
    "                .sort_values(ascending=False)*100.)\n",
    "    error_df.name = symbol\n",
    "    return error_df    "
   ]
  },
  {
   "cell_type": "code",
   "execution_count": 20,
   "metadata": {
    "ExecuteTime": {
     "end_time": "2020-05-07T21:01:02.087864Z",
     "start_time": "2020-05-07T20:58:13.898027Z"
    },
    "scrolled": true,
    "slideshow": {
     "slide_type": "subslide"
    }
   },
   "outputs": [
    {
     "name": "stdout",
     "output_type": "stream",
     "text": [
      ".............................................................................................................................................................index 156 is out of bounds for axis 0 with size 156\n",
      ".............................................................................................................................................................index 156 is out of bounds for axis 0 with size 156\n",
      ".............................................................................................................................................................index 156 is out of bounds for axis 0 with size 156\n",
      ".................."
     ]
    },
    {
     "name": "stderr",
     "output_type": "stream",
     "text": [
      "/home/kingmaster/anaconda3/envs/py37/lib/python3.7/site-packages/arch/univariate/base.py:711: ConvergenceWarning: The optimizer returned code 8. The message is:\n",
      "Positive directional derivative for linesearch\n",
      "See scipy.optimize.fmin_slsqp for code meaning.\n",
      "\n",
      "  ConvergenceWarning,\n",
      "/home/kingmaster/anaconda3/envs/py37/lib/python3.7/site-packages/arch/univariate/base.py:711: ConvergenceWarning: The optimizer returned code 8. The message is:\n",
      "Positive directional derivative for linesearch\n",
      "See scipy.optimize.fmin_slsqp for code meaning.\n",
      "\n",
      "  ConvergenceWarning,\n",
      "/home/kingmaster/anaconda3/envs/py37/lib/python3.7/site-packages/arch/univariate/base.py:711: ConvergenceWarning: The optimizer returned code 8. The message is:\n",
      "Positive directional derivative for linesearch\n",
      "See scipy.optimize.fmin_slsqp for code meaning.\n",
      "\n",
      "  ConvergenceWarning,\n"
     ]
    },
    {
     "name": "stdout",
     "output_type": "stream",
     "text": [
      "...........................................................................................................................................index 156 is out of bounds for axis 0 with size 156\n",
      ".............................................................................................................................................................index 156 is out of bounds for axis 0 with size 156\n",
      ".............................................................................................................................................................index 156 is out of bounds for axis 0 with size 156\n"
     ]
    }
   ],
   "source": [
    "errors = []\n",
    "preds = dict()\n",
    "actuals = dict()\n",
    "for symbol in R.columns:\n",
    "    sys.stdout.write('.')\n",
    "    sys.stdout.flush()    \n",
    "    try:\n",
    "        actual, predictions = run_model(R, symbol, keys)\n",
    "        tmp_errors = calc_model_mape(actual, predictions, symbol, keys)\n",
    "        errors.append(tmp_errors)\n",
    "        preds[symbol] = predictions\n",
    "        actuals[symbol] = actual\n",
    "    except Exception as e:\n",
    "        print(e)"
   ]
  },
  {
   "cell_type": "code",
   "execution_count": 21,
   "metadata": {
    "ExecuteTime": {
     "end_time": "2020-05-07T21:01:02.372341Z",
     "start_time": "2020-05-07T21:01:02.089464Z"
    }
   },
   "outputs": [
    {
     "data": {
      "image/png": "[encoded data removed]",
      "text/plain": [
       "<Figure size 720x504 with 1 Axes>"
      ]
     },
     "metadata": {},
     "output_type": "display_data"
    }
   ],
   "source": [
    "test = pd.DataFrame.from_dict(preds['SPY'])\n",
    "for col in test.columns:\n",
    "    sns.kdeplot(test[col])"
   ]
  },
  {
   "cell_type": "code",
   "execution_count": 22,
   "metadata": {
    "ExecuteTime": {
     "end_time": "2020-05-07T21:01:02.403854Z",
     "start_time": "2020-05-07T21:01:02.374208Z"
    },
    "scrolled": true,
    "slideshow": {
     "slide_type": "subslide"
    }
   },
   "outputs": [
    {
     "data": {
      "text/html": [
       "<div>\n",
       "<style scoped>\n",
       "    .dataframe tbody tr th:only-of-type {\n",
       "        vertical-align: middle;\n",
       "    }\n",
       "\n",
       "    .dataframe tbody tr th {\n",
       "        vertical-align: top;\n",
       "    }\n",
       "\n",
       "    .dataframe thead th {\n",
       "        text-align: right;\n",
       "    }\n",
       "</style>\n",
       "<table border=\"1\" class=\"dataframe\">\n",
       "  <thead>\n",
       "    <tr style=\"text-align: right;\">\n",
       "      <th></th>\n",
       "      <th>SPY</th>\n",
       "      <th>QQQ</th>\n",
       "      <th>TLT</th>\n",
       "      <th>GLD</th>\n",
       "      <th>EFA</th>\n",
       "      <th>EEM</th>\n",
       "    </tr>\n",
       "  </thead>\n",
       "  <tbody>\n",
       "    <tr>\n",
       "      <th>garch_normal</th>\n",
       "      <td>-50.6352</td>\n",
       "      <td>-61.1039</td>\n",
       "      <td>-157.2561</td>\n",
       "      <td>-70.6308</td>\n",
       "      <td>-67.1421</td>\n",
       "      <td>-99.9518</td>\n",
       "    </tr>\n",
       "    <tr>\n",
       "      <th>garch_t</th>\n",
       "      <td>-50.7773</td>\n",
       "      <td>-61.5726</td>\n",
       "      <td>-149.8648</td>\n",
       "      <td>-71.8148</td>\n",
       "      <td>-67.7095</td>\n",
       "      <td>-99.9203</td>\n",
       "    </tr>\n",
       "    <tr>\n",
       "      <th>garch_skewt</th>\n",
       "      <td>-51.1338</td>\n",
       "      <td>-58.3206</td>\n",
       "      <td>-148.9671</td>\n",
       "      <td>-70.7203</td>\n",
       "      <td>-66.2554</td>\n",
       "      <td>-99.8114</td>\n",
       "    </tr>\n",
       "    <tr>\n",
       "      <th>historical</th>\n",
       "      <td>-59.4449</td>\n",
       "      <td>-67.7024</td>\n",
       "      <td>-57.3544</td>\n",
       "      <td>-73.2437</td>\n",
       "      <td>-77.8912</td>\n",
       "      <td>-114.1420</td>\n",
       "    </tr>\n",
       "    <tr>\n",
       "      <th>gmm</th>\n",
       "      <td>-59.9009</td>\n",
       "      <td>-68.7967</td>\n",
       "      <td>-59.1693</td>\n",
       "      <td>-73.7499</td>\n",
       "      <td>-80.3033</td>\n",
       "      <td>-115.8029</td>\n",
       "    </tr>\n",
       "    <tr>\n",
       "      <th>gkde</th>\n",
       "      <td>-62.2783</td>\n",
       "      <td>-72.3666</td>\n",
       "      <td>-60.8946</td>\n",
       "      <td>-79.9962</td>\n",
       "      <td>-82.9168</td>\n",
       "      <td>-124.1337</td>\n",
       "    </tr>\n",
       "    <tr>\n",
       "      <th>gmm_risky</th>\n",
       "      <td>-91.0889</td>\n",
       "      <td>-107.3037</td>\n",
       "      <td>-72.2841</td>\n",
       "      <td>-120.6881</td>\n",
       "      <td>-154.1000</td>\n",
       "      <td>-165.8820</td>\n",
       "    </tr>\n",
       "  </tbody>\n",
       "</table>\n",
       "</div>"
      ],
      "text/plain": [
       "                  SPY       QQQ       TLT       GLD       EFA       EEM\n",
       "garch_normal -50.6352  -61.1039 -157.2561  -70.6308  -67.1421  -99.9518\n",
       "garch_t      -50.7773  -61.5726 -149.8648  -71.8148  -67.7095  -99.9203\n",
       "garch_skewt  -51.1338  -58.3206 -148.9671  -70.7203  -66.2554  -99.8114\n",
       "historical   -59.4449  -67.7024  -57.3544  -73.2437  -77.8912 -114.1420\n",
       "gmm          -59.9009  -68.7967  -59.1693  -73.7499  -80.3033 -115.8029\n",
       "gkde         -62.2783  -72.3666  -60.8946  -79.9962  -82.9168 -124.1337\n",
       "gmm_risky    -91.0889 -107.3037  -72.2841 -120.6881 -154.1000 -165.8820"
      ]
     },
     "metadata": {},
     "output_type": "display_data"
    }
   ],
   "source": [
    "error_df = pd.concat(errors,axis=1)    \n",
    "display(error_df)"
   ]
  },
  {
   "cell_type": "code",
   "execution_count": 23,
   "metadata": {
    "ExecuteTime": {
     "end_time": "2020-05-07T21:01:02.430341Z",
     "start_time": "2020-05-07T21:01:02.406844Z"
    },
    "slideshow": {
     "slide_type": "subslide"
    }
   },
   "outputs": [
    {
     "data": {
      "text/plain": [
       "historical      -74.9631\n",
       "gmm             -76.2872\n",
       "gkde            -80.4311\n",
       "garch_skewt     -82.5348\n",
       "garch_t         -83.6099\n",
       "garch_normal    -84.4533\n",
       "gmm_risky      -118.5578\n",
       "dtype: float64"
      ]
     },
     "execution_count": 23,
     "metadata": {},
     "output_type": "execute_result"
    }
   ],
   "source": [
    "error_df.mean(1).sort_values()[::-1]"
   ]
  },
  {
   "cell_type": "code",
   "execution_count": 24,
   "metadata": {
    "ExecuteTime": {
     "end_time": "2020-05-07T21:01:02.476574Z",
     "start_time": "2020-05-07T21:01:02.431683Z"
    },
    "slideshow": {
     "slide_type": "subslide"
    }
   },
   "outputs": [
    {
     "data": {
      "text/html": [
       "<div>\n",
       "<style scoped>\n",
       "    .dataframe tbody tr th:only-of-type {\n",
       "        vertical-align: middle;\n",
       "    }\n",
       "\n",
       "    .dataframe tbody tr th {\n",
       "        vertical-align: top;\n",
       "    }\n",
       "\n",
       "    .dataframe thead th {\n",
       "        text-align: right;\n",
       "    }\n",
       "</style>\n",
       "<table border=\"1\" class=\"dataframe\">\n",
       "  <thead>\n",
       "    <tr style=\"text-align: right;\">\n",
       "      <th></th>\n",
       "      <th>count</th>\n",
       "      <th>mean</th>\n",
       "      <th>std</th>\n",
       "      <th>min</th>\n",
       "      <th>25%</th>\n",
       "      <th>50%</th>\n",
       "      <th>75%</th>\n",
       "      <th>max</th>\n",
       "    </tr>\n",
       "  </thead>\n",
       "  <tbody>\n",
       "    <tr>\n",
       "      <th>historical</th>\n",
       "      <td>6.0000</td>\n",
       "      <td>-74.9631</td>\n",
       "      <td>20.7370</td>\n",
       "      <td>-114.1420</td>\n",
       "      <td>-76.7294</td>\n",
       "      <td>-70.4731</td>\n",
       "      <td>-61.5093</td>\n",
       "      <td>-57.3544</td>\n",
       "    </tr>\n",
       "    <tr>\n",
       "      <th>gmm</th>\n",
       "      <td>6.0000</td>\n",
       "      <td>-76.2872</td>\n",
       "      <td>20.9843</td>\n",
       "      <td>-115.8029</td>\n",
       "      <td>-78.6649</td>\n",
       "      <td>-71.2733</td>\n",
       "      <td>-62.1249</td>\n",
       "      <td>-59.1693</td>\n",
       "    </tr>\n",
       "    <tr>\n",
       "      <th>gkde</th>\n",
       "      <td>6.0000</td>\n",
       "      <td>-80.4311</td>\n",
       "      <td>23.2057</td>\n",
       "      <td>-124.1337</td>\n",
       "      <td>-82.1867</td>\n",
       "      <td>-76.1814</td>\n",
       "      <td>-64.8004</td>\n",
       "      <td>-60.8946</td>\n",
       "    </tr>\n",
       "    <tr>\n",
       "      <th>garch_skewt</th>\n",
       "      <td>6.0000</td>\n",
       "      <td>-82.5348</td>\n",
       "      <td>36.5751</td>\n",
       "      <td>-148.9671</td>\n",
       "      <td>-92.5386</td>\n",
       "      <td>-68.4878</td>\n",
       "      <td>-60.3043</td>\n",
       "      <td>-51.1338</td>\n",
       "    </tr>\n",
       "    <tr>\n",
       "      <th>garch_t</th>\n",
       "      <td>6.0000</td>\n",
       "      <td>-83.6099</td>\n",
       "      <td>36.3629</td>\n",
       "      <td>-149.8648</td>\n",
       "      <td>-92.8940</td>\n",
       "      <td>-69.7622</td>\n",
       "      <td>-63.1068</td>\n",
       "      <td>-50.7773</td>\n",
       "    </tr>\n",
       "    <tr>\n",
       "      <th>garch_normal</th>\n",
       "      <td>6.0000</td>\n",
       "      <td>-84.4533</td>\n",
       "      <td>39.2939</td>\n",
       "      <td>-157.2561</td>\n",
       "      <td>-92.6215</td>\n",
       "      <td>-68.8864</td>\n",
       "      <td>-62.6134</td>\n",
       "      <td>-50.6352</td>\n",
       "    </tr>\n",
       "    <tr>\n",
       "      <th>gmm_risky</th>\n",
       "      <td>6.0000</td>\n",
       "      <td>-118.5578</td>\n",
       "      <td>36.1381</td>\n",
       "      <td>-165.8820</td>\n",
       "      <td>-145.7470</td>\n",
       "      <td>-113.9959</td>\n",
       "      <td>-95.1426</td>\n",
       "      <td>-72.2841</td>\n",
       "    </tr>\n",
       "  </tbody>\n",
       "</table>\n",
       "</div>"
      ],
      "text/plain": [
       "              count      mean     std       min       25%       50%      75%  \\\n",
       "historical   6.0000  -74.9631 20.7370 -114.1420  -76.7294  -70.4731 -61.5093   \n",
       "gmm          6.0000  -76.2872 20.9843 -115.8029  -78.6649  -71.2733 -62.1249   \n",
       "gkde         6.0000  -80.4311 23.2057 -124.1337  -82.1867  -76.1814 -64.8004   \n",
       "garch_skewt  6.0000  -82.5348 36.5751 -148.9671  -92.5386  -68.4878 -60.3043   \n",
       "garch_t      6.0000  -83.6099 36.3629 -149.8648  -92.8940  -69.7622 -63.1068   \n",
       "garch_normal 6.0000  -84.4533 39.2939 -157.2561  -92.6215  -68.8864 -62.6134   \n",
       "gmm_risky    6.0000 -118.5578 36.1381 -165.8820 -145.7470 -113.9959 -95.1426   \n",
       "\n",
       "                  max  \n",
       "historical   -57.3544  \n",
       "gmm          -59.1693  \n",
       "gkde         -60.8946  \n",
       "garch_skewt  -51.1338  \n",
       "garch_t      -50.7773  \n",
       "garch_normal -50.6352  \n",
       "gmm_risky    -72.2841  "
      ]
     },
     "execution_count": 24,
     "metadata": {},
     "output_type": "execute_result"
    }
   ],
   "source": [
    "error_df.T.describe().T.sort_values('mean')[::-1]"
   ]
  },
  {
   "cell_type": "code",
   "execution_count": 27,
   "metadata": {
    "ExecuteTime": {
     "end_time": "2020-05-07T21:18:45.653580Z",
     "start_time": "2020-05-07T21:18:45.602034Z"
    },
    "slideshow": {
     "slide_type": "subslide"
    }
   },
   "outputs": [
    {
     "data": {
      "text/html": [
       "<div>\n",
       "<style scoped>\n",
       "    .dataframe tbody tr th:only-of-type {\n",
       "        vertical-align: middle;\n",
       "    }\n",
       "\n",
       "    .dataframe tbody tr th {\n",
       "        vertical-align: top;\n",
       "    }\n",
       "\n",
       "    .dataframe thead th {\n",
       "        text-align: right;\n",
       "    }\n",
       "</style>\n",
       "<table border=\"1\" class=\"dataframe\">\n",
       "  <thead>\n",
       "    <tr style=\"text-align: right;\">\n",
       "      <th></th>\n",
       "      <th>count</th>\n",
       "      <th>mean</th>\n",
       "      <th>std</th>\n",
       "      <th>min</th>\n",
       "      <th>25%</th>\n",
       "      <th>50%</th>\n",
       "      <th>75%</th>\n",
       "      <th>max</th>\n",
       "    </tr>\n",
       "  </thead>\n",
       "  <tbody>\n",
       "    <tr>\n",
       "      <th>garch_skewt</th>\n",
       "      <td>6.0000</td>\n",
       "      <td>-82.5348</td>\n",
       "      <td>36.5751</td>\n",
       "      <td>-148.9671</td>\n",
       "      <td>-92.5386</td>\n",
       "      <td>-68.4878</td>\n",
       "      <td>-60.3043</td>\n",
       "      <td>-51.1338</td>\n",
       "    </tr>\n",
       "    <tr>\n",
       "      <th>garch_normal</th>\n",
       "      <td>6.0000</td>\n",
       "      <td>-84.4533</td>\n",
       "      <td>39.2939</td>\n",
       "      <td>-157.2561</td>\n",
       "      <td>-92.6215</td>\n",
       "      <td>-68.8864</td>\n",
       "      <td>-62.6134</td>\n",
       "      <td>-50.6352</td>\n",
       "    </tr>\n",
       "    <tr>\n",
       "      <th>garch_t</th>\n",
       "      <td>6.0000</td>\n",
       "      <td>-83.6099</td>\n",
       "      <td>36.3629</td>\n",
       "      <td>-149.8648</td>\n",
       "      <td>-92.8940</td>\n",
       "      <td>-69.7622</td>\n",
       "      <td>-63.1068</td>\n",
       "      <td>-50.7773</td>\n",
       "    </tr>\n",
       "    <tr>\n",
       "      <th>historical</th>\n",
       "      <td>6.0000</td>\n",
       "      <td>-74.9631</td>\n",
       "      <td>20.7370</td>\n",
       "      <td>-114.1420</td>\n",
       "      <td>-76.7294</td>\n",
       "      <td>-70.4731</td>\n",
       "      <td>-61.5093</td>\n",
       "      <td>-57.3544</td>\n",
       "    </tr>\n",
       "    <tr>\n",
       "      <th>gmm</th>\n",
       "      <td>6.0000</td>\n",
       "      <td>-76.2872</td>\n",
       "      <td>20.9843</td>\n",
       "      <td>-115.8029</td>\n",
       "      <td>-78.6649</td>\n",
       "      <td>-71.2733</td>\n",
       "      <td>-62.1249</td>\n",
       "      <td>-59.1693</td>\n",
       "    </tr>\n",
       "    <tr>\n",
       "      <th>gkde</th>\n",
       "      <td>6.0000</td>\n",
       "      <td>-80.4311</td>\n",
       "      <td>23.2057</td>\n",
       "      <td>-124.1337</td>\n",
       "      <td>-82.1867</td>\n",
       "      <td>-76.1814</td>\n",
       "      <td>-64.8004</td>\n",
       "      <td>-60.8946</td>\n",
       "    </tr>\n",
       "    <tr>\n",
       "      <th>gmm_risky</th>\n",
       "      <td>6.0000</td>\n",
       "      <td>-118.5578</td>\n",
       "      <td>36.1381</td>\n",
       "      <td>-165.8820</td>\n",
       "      <td>-145.7470</td>\n",
       "      <td>-113.9959</td>\n",
       "      <td>-95.1426</td>\n",
       "      <td>-72.2841</td>\n",
       "    </tr>\n",
       "  </tbody>\n",
       "</table>\n",
       "</div>"
      ],
      "text/plain": [
       "              count      mean     std       min       25%       50%      75%  \\\n",
       "garch_skewt  6.0000  -82.5348 36.5751 -148.9671  -92.5386  -68.4878 -60.3043   \n",
       "garch_normal 6.0000  -84.4533 39.2939 -157.2561  -92.6215  -68.8864 -62.6134   \n",
       "garch_t      6.0000  -83.6099 36.3629 -149.8648  -92.8940  -69.7622 -63.1068   \n",
       "historical   6.0000  -74.9631 20.7370 -114.1420  -76.7294  -70.4731 -61.5093   \n",
       "gmm          6.0000  -76.2872 20.9843 -115.8029  -78.6649  -71.2733 -62.1249   \n",
       "gkde         6.0000  -80.4311 23.2057 -124.1337  -82.1867  -76.1814 -64.8004   \n",
       "gmm_risky    6.0000 -118.5578 36.1381 -165.8820 -145.7470 -113.9959 -95.1426   \n",
       "\n",
       "                  max  \n",
       "garch_skewt  -51.1338  \n",
       "garch_normal -50.6352  \n",
       "garch_t      -50.7773  \n",
       "historical   -57.3544  \n",
       "gmm          -59.1693  \n",
       "gkde         -60.8946  \n",
       "gmm_risky    -72.2841  "
      ]
     },
     "execution_count": 27,
     "metadata": {},
     "output_type": "execute_result"
    }
   ],
   "source": [
    "error_df.T.describe().T.sort_values('50%')[::-1]"
   ]
  },
  {
   "cell_type": "markdown",
   "metadata": {
    "slideshow": {
     "slide_type": "slide"
    }
   },
   "source": [
    "## Conclusions"
   ]
  },
  {
   "cell_type": "markdown",
   "metadata": {
    "slideshow": {
     "slide_type": "fragment"
    }
   },
   "source": [
    "Surprisingly the `historical` model was the top ranked in terms of VAR accuracy when looking at the average `mape` score, followed by the full `gmm` model (using 2 components). As expected on average the `gmm_risky` is the worst performer due to the VAR being calculated using only the most volatile component."
   ]
  },
  {
   "cell_type": "markdown",
   "metadata": {
    "slideshow": {
     "slide_type": "subslide"
    }
   },
   "source": [
    "## Resources and Citations\n",
    "\n",
    "1. https://stackoverflow.com/questions/42250958/how-to-optimize-mape-code-in-python/42251083#42251083\n",
    "2. http://www.bsic.it/wp-content/uploads/2017/03/VaR-with-Python.pdf\n",
    "3. http://www.turingfinance.com/computational-investing-with-python-week-one/\n",
    "4. https://github.com/bashtage/arch/blob/master/examples/univariate_volatility_forecasting.ipynb\n",
    "5. https://en.wikipedia.org/wiki/Mean_absolute_percentage_error"
   ]
  }
 ],
 "metadata": {
  "celltoolbar": "Slideshow",
  "kernelspec": {
   "display_name": "Python [conda env:py37]",
   "language": "python",
   "name": "conda-env-py37-py"
  },
  "language_info": {
   "codemirror_mode": {
    "name": "ipython",
    "version": 3
   },
   "file_extension": ".py",
   "mimetype": "text/x-python",
   "name": "python",
   "nbconvert_exporter": "python",
   "pygments_lexer": "ipython3",
   "version": "3.7.6"
  },
  "toc": {
   "base_numbering": 1,
   "nav_menu": {},
   "number_sections": true,
   "sideBar": true,
   "skip_h1_title": true,
   "title_cell": "Table of Contents",
   "title_sidebar": "Contents",
   "toc_cell": true,
   "toc_position": {
    "height": "calc(100% - 180px)",
    "left": "10px",
    "top": "150px",
    "width": "315px"
   },
   "toc_section_display": true,
   "toc_window_display": true
  },
  "varInspector": {
   "cols": {
    "lenName": 16,
    "lenType": 16,
    "lenVar": 40
   },
   "kernels_config": {
    "python": {
     "delete_cmd_postfix": "",
     "delete_cmd_prefix": "del ",
     "library": "var_list.py",
     "varRefreshCmd": "print(var_dic_list())"
    },
    "r": {
     "delete_cmd_postfix": ") ",
     "delete_cmd_prefix": "rm(",
     "library": "var_list.r",
     "varRefreshCmd": "cat(var_dic_list()) "
    }
   },
   "types_to_exclude": [
    "module",
    "function",
    "builtin_function_or_method",
    "instance",
    "_Feature"
   ],
   "window_display": false
  }
 },
 "nbformat": 4,
 "nbformat_minor": 2
}
